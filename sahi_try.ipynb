{
  "nbformat": 4,
  "nbformat_minor": 0,
  "metadata": {
    "colab": {
      "provenance": [],
      "authorship_tag": "ABX9TyPpV5scpCGzsEjh/Br/0ks/",
      "include_colab_link": true
    },
    "kernelspec": {
      "name": "python3",
      "display_name": "Python 3"
    },
    "language_info": {
      "name": "python"
    },
    "accelerator": "GPU"
  },
  "cells": [
    {
      "cell_type": "markdown",
      "metadata": {
        "id": "view-in-github",
        "colab_type": "text"
      },
      "source": [
        "<a href=\"https://colab.research.google.com/github/xalil8/colab_notebooks/blob/main/sahi_try.ipynb\" target=\"_parent\"><img src=\"https://colab.research.google.com/assets/colab-badge.svg\" alt=\"Open In Colab\"/></a>"
      ]
    },
    {
      "cell_type": "code",
      "source": [
        "!pip install yolov5"
      ],
      "metadata": {
        "id": "Oy4fSkdug369"
      },
      "execution_count": null,
      "outputs": []
    },
    {
      "cell_type": "code",
      "source": [
        "!yolov5 detect --weights /content/xalil.pt --source zara_002.png --name /content/pred.png\n"
      ],
      "metadata": {
        "colab": {
          "base_uri": "https://localhost:8080/"
        },
        "id": "FJreyHp9hXOD",
        "outputId": "8bfb7206-c372-40db-8a29-826f9cba2340"
      },
      "execution_count": null,
      "outputs": [
        {
          "output_type": "stream",
          "name": "stdout",
          "text": [
            "YOLOv5 🚀 2022-10-10 Python-3.7.14 torch-1.12.1+cu113 CUDA:0 (Tesla T4, 15110MiB)\n",
            "\n",
            "Fusing layers... \n",
            "Model summary: 291 layers, 21736092 parameters, 0 gradients, 51.0 GFLOPs\n",
            "image 1/1 /content/zara_002.png: 384x640 1 google, 1 la-poste, 24.0ms\n",
            "Speed: 0.6ms pre-process, 24.0ms inference, 18.4ms NMS per image at shape (1, 3, 640, 640)\n",
            "Results saved to \u001b[1m/content/pred.png3\u001b[0m\n"
          ]
        }
      ]
    },
    {
      "cell_type": "code",
      "source": [
        "!yolov5 detect --weights /content/epoch250.pt --source /content/test_data/zara_015.png --name /content/predictions/pred  --img 1280"
      ],
      "metadata": {
        "colab": {
          "base_uri": "https://localhost:8080/"
        },
        "id": "rZCDdJBk8jtr",
        "outputId": "1d4a940e-2c28-4043-a196-290ba30bd5b0"
      },
      "execution_count": 23,
      "outputs": [
        {
          "output_type": "stream",
          "name": "stdout",
          "text": [
            "YOLOv5 🚀 2022-10-11 Python-3.7.14 torch-1.12.1+cu113 CUDA:0 (Tesla T4, 15110MiB)\n",
            "\n",
            "Fusing layers... \n",
            "Model summary: 291 layers, 21728010 parameters, 0 gradients, 51.0 GFLOPs\n",
            "image 1/1 /content/test_data/zara_015.png: 736x1280 2 instagrams, 50.9ms\n",
            "Speed: 1.0ms pre-process, 50.9ms inference, 1.3ms NMS per image at shape (1, 3, 1280, 1280)\n",
            "Results saved to \u001b[1m/content/predictions/pred\u001b[0m\n"
          ]
        }
      ]
    },
    {
      "cell_type": "code",
      "source": [
        "!sahi predict --model_path /content/epoch250.pt --model_type yolov5 --source /content/test_data/zara_015.png --name /content/predictions/pred "
      ],
      "metadata": {
        "colab": {
          "base_uri": "https://localhost:8080/"
        },
        "id": "uRax7jE-_1xr",
        "outputId": "0e51820a-6c89-4745-ce3e-2085d5f1b276"
      },
      "execution_count": 28,
      "outputs": [
        {
          "output_type": "stream",
          "name": "stdout",
          "text": [
            "10/11/2022 08:17:07 - INFO - numexpr.utils -   NumExpr defaulting to 2 threads.\n",
            "Performing prediction on 6 number of slices.\n",
            "Prediction time is: 279.91 ms\n",
            "Performing inference on images: 100% 1/1 [00:00<00:00,  3.03it/s]\n",
            "Prediction results are successfully exported to /content/predictions/pred3\n"
          ]
        }
      ]
    },
    {
      "cell_type": "code",
      "source": [
        "!rm -rf  r"
      ],
      "metadata": {
        "id": "SZ8q0x62GfxP"
      },
      "execution_count": null,
      "outputs": []
    }
  ]
}