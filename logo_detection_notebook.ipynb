{
  "cells": [
    {
      "cell_type": "markdown",
      "source": [
        "### Colab Link\n",
        "\n",
        "https://colab.research.google.com/drive/1_wlt8_9NnCuFfzV5RjGtYQ0FKwZVZ4wJ?usp=sharing"
      ],
      "metadata": {
        "id": "noUZPU2bDcmx"
      }
    },
    {
      "cell_type": "markdown",
      "source": [
        "### Clone the original Yolov5 Repo"
      ],
      "metadata": {
        "id": "cr_8_aSk0zOn"
      }
    },
    {
      "cell_type": "code",
      "execution_count": null,
      "metadata": {
        "id": "bpxLkYOpe8j1"
      },
      "outputs": [],
      "source": [
        "!git clone https://github.com/ultralytics/yolov5\n",
        "%cd yolov5\n",
        "%pip install -qr requirements.txt\n",
        "\n",
        "import torch\n",
        "from IPython.display import Image, clear_output"
      ]
    },
    {
      "cell_type": "markdown",
      "source": [
        "this line for mounting files from google drive "
      ],
      "metadata": {
        "id": "sz9al6fAb3he"
      }
    },
    {
      "cell_type": "code",
      "source": [
        "from google.colab import drive\n",
        "drive.mount('/content/drive')"
      ],
      "metadata": {
        "id": "W4t6PgEtZizk"
      },
      "execution_count": null,
      "outputs": []
    },
    {
      "cell_type": "code",
      "execution_count": null,
      "metadata": {
        "id": "g47eEvBjfWGR"
      },
      "outputs": [],
      "source": [
        "!cp /content/drive/MyDrive/whole_dataset.zip /content/"
      ]
    },
    {
      "cell_type": "markdown",
      "source": [
        "- Unzip the dataset in \"output\" folder"
      ],
      "metadata": {
        "id": "xqI6eG_G1CwI"
      }
    },
    {
      "cell_type": "code",
      "execution_count": null,
      "metadata": {
        "id": "bwVtYGwzf4oX"
      },
      "outputs": [],
      "source": [
        "!unzip -q /content/drive/MyDrive/dataset_logo.zip -d /content/output"
      ]
    },
    {
      "cell_type": "markdown",
      "source": [
        "- Integrate WANDB (optional)"
      ],
      "metadata": {
        "id": "MUZCSSGx1Hat"
      }
    },
    {
      "cell_type": "code",
      "execution_count": null,
      "metadata": {
        "id": "7TzxjyE9fgCh"
      },
      "outputs": [],
      "source": [
        "# %pip install -q wandb==0.12.10\n",
        "# !wandb login\n",
        "# import wandb"
      ]
    },
    {
      "cell_type": "markdown",
      "source": [
        "- Copy the yaml file of the dataset.\n",
        "- (You can prepare it with the yaml_maker.py util.) "
      ],
      "metadata": {
        "id": "Gta4051R1K8_"
      }
    },
    {
      "cell_type": "code",
      "source": [
        "# !cp /content/custom_data.yaml /content/yolov5/data"
      ],
      "metadata": {
        "id": "7aXy5-DVbwoJ"
      },
      "execution_count": null,
      "outputs": []
    },
    {
      "cell_type": "code",
      "execution_count": null,
      "metadata": {
        "id": "G6VnEz6NgNWU"
      },
      "outputs": [],
      "source": [
        "!python train.py --img 600 .-batch 16 --epochs 160 --data custom_data.yaml --cache --weights yolov5m.pt "
      ]
    },
    {
      "cell_type": "code",
      "source": [],
      "metadata": {
        "id": "OujFUUTodRdI"
      },
      "execution_count": null,
      "outputs": []
    },
    {
      "cell_type": "code",
      "source": [
        "!cp -r /content/yolov5/runs/train/exp2 /content/drive/MyDrive/DIATTACK/image_similarity"
      ],
      "metadata": {
        "id": "q-Ewl5zLv_el"
      },
      "execution_count": null,
      "outputs": []
    },
    {
      "cell_type": "markdown",
      "metadata": {
        "id": "5_o52fLhVHDb"
      },
      "source": [
        "# PyTorch Load Model and Detect"
      ]
    },
    {
      "cell_type": "code",
      "execution_count": null,
      "metadata": {
        "id": "83cePTFcVKlB"
      },
      "outputs": [],
      "source": [
        "import cv2\n",
        "import torch\n",
        "from PIL import Image\n",
        "\n",
        "# Model\n",
        "model = torch.hub.load('ultralytics/yolov5', 'yolov5s', pretrained=True).autoshape()  # for PIL/cv2/np inputs and NMS"
      ]
    }
  ],
  "metadata": {
    "accelerator": "GPU",
    "colab": {
      "collapsed_sections": [],
      "provenance": []
    },
    "gpuClass": "standard",
    "kernelspec": {
      "display_name": "Python 3",
      "name": "python3"
    },
    "language_info": {
      "name": "python"
    }
  },
  "nbformat": 4,
  "nbformat_minor": 0
}